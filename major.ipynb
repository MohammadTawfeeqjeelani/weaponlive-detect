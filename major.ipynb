{
 "cells": [
  {
   "cell_type": "code",
   "execution_count": null,
   "id": "57b2edf9",
   "metadata": {
    "scrolled": false
   },
   "outputs": [],
   "source": [
    "import sys\n",
    "sys.path.append('C:\\\\Users\\\\mdtaw\\\\AppData\\\\Local\\\\Packages\\\\PythonSoftwareFoundation.Python.3.10_qbz5n2kfra8p0\\\\LocalCache\\\\local-packages\\\\Python310\\\\site-packages')\n",
    "\n",
    "import numpy as np \n",
    "import cv2\n",
    "import torch\n",
    "\n",
    "model = torch.hub.load('ultralytics/yolov5', 'custom', path=\"./best.pt\", force_reload=True) # Loading Custom Trained Model\n",
    "src = 0"
   ]
  },
  {
   "cell_type": "code",
   "execution_count": null,
   "id": "f207ad5e",
   "metadata": {
    "colab": {
     "base_uri": "https://localhost:8080/"
    },
    "executionInfo": {
     "elapsed": 1974,
     "status": "ok",
     "timestamp": 1651659318874,
     "user": {
      "displayName": "Андрей Киреев",
      "userId": "05929905201775884820"
     },
     "user_tz": -180
    },
    "id": "hHlMBBxGHZev",
    "outputId": "49b6b679-94e8-4f3d-def7-7846dc928622"
   },
   "outputs": [],
   "source": [
    "# !git clone https://github.com/ultralytics/yolov5.git"
   ]
  },
  {
   "cell_type": "code",
   "execution_count": null,
   "id": "06673e33",
   "metadata": {
    "colab": {
     "base_uri": "https://localhost:8080/"
    },
    "executionInfo": {
     "elapsed": 373,
     "status": "ok",
     "timestamp": 1651659323475,
     "user": {
      "displayName": "Андрей Киреев",
      "userId": "05929905201775884820"
     },
     "user_tz": -180
    },
    "id": "c_q5dAv4HgGV",
    "outputId": "03b49200-5189-4a09-f1be-0bb450d7c750"
   },
   "outputs": [],
   "source": [
    "# %cd yolov5/"
   ]
  },
  {
   "cell_type": "code",
   "execution_count": null,
   "id": "fcbf87bb",
   "metadata": {
    "colab": {
     "base_uri": "https://localhost:8080/"
    },
    "executionInfo": {
     "elapsed": 3633,
     "status": "ok",
     "timestamp": 1651659389279,
     "user": {
      "displayName": "Андрей Киреев",
      "userId": "05929905201775884820"
     },
     "user_tz": -180
    },
    "id": "AXuVTW3yHhZl",
    "outputId": "7d3e35c8-274a-4b2b-8b93-90fddab7f1ef"
   },
   "outputs": [],
   "source": [
    "# !pip install -r requirements.txt"
   ]
  },
  {
   "cell_type": "code",
   "execution_count": null,
   "id": "357cb8cb",
   "metadata": {
    "colab": {
     "base_uri": "https://localhost:8080/"
    },
    "executionInfo": {
     "elapsed": 193607,
     "status": "ok",
     "timestamp": 1651659586068,
     "user": {
      "displayName": "Андрей Киреев",
      "userId": "05929905201775884820"
     },
     "user_tz": -180
    },
    "id": "kbs19R1GINrP",
    "outputId": "1631b7f7-7954-401e-bdd3-416c328ad6f0"
   },
   "outputs": [],
   "source": [
    "# !python train.py --img 416 --batch 8 --epochs 120 --data /content/drive/MyDrive/%_YOUR_TRAIN_FOLDER_%/dataset.yaml --weights /content/yolov5/yolov5s.pt --nosave --cache"
   ]
  },
  {
   "cell_type": "code",
   "execution_count": null,
   "id": "f2635856",
   "metadata": {
    "colab": {
     "base_uri": "https://localhost:8080/"
    },
    "executionInfo": {
     "elapsed": 13090,
     "status": "ok",
     "timestamp": 1651659743547,
     "user": {
      "displayName": "Андрей Киреев",
      "userId": "05929905201775884820"
     },
     "user_tz": -180
    },
    "id": "ApE0zmGfUcic",
    "outputId": "4915d36d-2e36-46ca-b8e5-39b16dc9f1ee"
   },
   "outputs": [],
   "source": [
    "# !python detect.py --source ../dataset/test --weights ../best.pt --img 416 --save-txt --save-conf"
   ]
  },
  {
   "cell_type": "markdown",
   "id": "bed977b5",
   "metadata": {},
   "source": [
    "### weapon detction through camera"
   ]
  },
  {
   "cell_type": "code",
   "execution_count": null,
   "id": "016f460c",
   "metadata": {},
   "outputs": [],
   "source": [
    "# !python detect.py --source 0 --weights ../best.pt --img 640"
   ]
  },
  {
   "cell_type": "code",
   "execution_count": null,
   "id": "6220ec3d",
   "metadata": {},
   "outputs": [],
   "source": [
    "def liveDetection(model, src):\n",
    "    '''Live camera detection'''\n",
    "    \n",
    "    cap = cv2.VideoCapture(src)\n",
    "    \n",
    "#     make_720p(cap)\n",
    "    \n",
    "    while cap.isOpened():\n",
    "        ret, frame = cap.read()\n",
    "        # print('Resolution: ' + str(frame.shape[1]) + ' x ' + str(frame.shape[0]))\n",
    "        \n",
    "        # Make detections \n",
    "        # Open CV reads input as BGR, but yolo model needs RGB\n",
    "        \n",
    "        imgRGB = cv2.cvtColor(frame, cv2.COLOR_BGR2RGB) # Convert BGR to RGB\n",
    "\n",
    "        results = model(imgRGB) # Dectections made on RGB\n",
    "\n",
    "        imgBGR = cv2.cvtColor(np.squeeze(results.render()), cv2.COLOR_RGB2BGR) # Convert RGB to BGR for corrected color visual output\n",
    "\n",
    "        cv2.imshow('Live Detection', imgBGR)\n",
    "        \n",
    "        if cv2.waitKey(1) & 0xFF == ord('q'):\n",
    "            break\n",
    "\n",
    "    cap.release()\n",
    "    cv2.destroyAllWindows()"
   ]
  },
  {
   "cell_type": "code",
   "execution_count": null,
   "id": "9fd79be3",
   "metadata": {},
   "outputs": [],
   "source": [
    "liveDetection(model,src)"
   ]
  },
  {
   "cell_type": "code",
   "execution_count": null,
   "id": "e5d5c105",
   "metadata": {},
   "outputs": [],
   "source": []
  }
 ],
 "metadata": {
  "kernelspec": {
   "display_name": "Python 3 (ipykernel)",
   "language": "python",
   "name": "python3"
  },
  "language_info": {
   "codemirror_mode": {
    "name": "ipython",
    "version": 3
   },
   "file_extension": ".py",
   "mimetype": "text/x-python",
   "name": "python",
   "nbconvert_exporter": "python",
   "pygments_lexer": "ipython3",
   "version": "3.10.9"
  }
 },
 "nbformat": 4,
 "nbformat_minor": 5
}
